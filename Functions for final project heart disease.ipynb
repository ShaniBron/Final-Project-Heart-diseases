{
 "cells": [
  {
   "cell_type": "code",
   "execution_count": 2,
   "id": "9f623aaf",
   "metadata": {},
   "outputs": [],
   "source": [
    "def create_pie_chart(df, column):\n",
    "    # Create a pie chart using Pandas\n",
    "    plt.figure(figsize=(5, 5))  # Adjust the figure size as needed\n",
    "    df[column].value_counts().plot(kind='pie',autopct='%1.1f%%', startangle=140)\n",
    "\n",
    "    # Add a title\n",
    "    plt.title(f'Pie Chart {column}')\n",
    "\n",
    "    # Equal aspect ratio ensures that pie is drawn as a circle.\n",
    "    plt.axis('equal')\n",
    "\n",
    "    # Show the plot\n",
    "    plt.show()"
   ]
  },
  {
   "cell_type": "code",
   "execution_count": null,
   "id": "19541ecf",
   "metadata": {},
   "outputs": [],
   "source": [
    "def plot_side_by_side(dataframe,columns, titles=None, figsize=(10, 5)):\n",
    "\n",
    "    num_plots = len(columns)\n",
    "\n",
    "    plt.figure(figsize=figsize)\n",
    "\n",
    "    for i, col in enumerate(columns, 1):\n",
    "        create_pie_chart(dataframe,col)\n",
    "\n",
    "    plt.tight_layout()\n",
    "    plt.show()"
   ]
  },
  {
   "cell_type": "code",
   "execution_count": null,
   "id": "f60a45b7",
   "metadata": {},
   "outputs": [],
   "source": [
    "def normalize_plot(df,col_x,col_hue):\n",
    "\n",
    "    df1 = df.groupby(col_x)[col_hue].value_counts(normalize=True)\n",
    "    df1 = df1.mul(100)\n",
    "    df1 = df1.rename('percent').reset_index()\n",
    "\n",
    "    g = sns.catplot(x=col_x,y='percent',hue=col_hue,kind='bar',data=df1)\n",
    "    g.ax.set_ylim(0,100)\n",
    "\n",
    "    for p in g.ax.patches:\n",
    "        txt = str(p.get_height().round(2)) + '%'\n",
    "        txt_x = p.get_x() \n",
    "        txt_y = p.get_height()\n",
    "        g.ax.text(txt_x,txt_y,txt)"
   ]
  }
 ],
 "metadata": {
  "kernelspec": {
   "display_name": "Python 3 (ipykernel)",
   "language": "python",
   "name": "python3"
  },
  "language_info": {
   "codemirror_mode": {
    "name": "ipython",
    "version": 3
   },
   "file_extension": ".py",
   "mimetype": "text/x-python",
   "name": "python",
   "nbconvert_exporter": "python",
   "pygments_lexer": "ipython3",
   "version": "3.11.0"
  }
 },
 "nbformat": 4,
 "nbformat_minor": 5
}
